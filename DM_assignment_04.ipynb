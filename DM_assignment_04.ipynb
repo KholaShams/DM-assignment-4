{
  "nbformat": 4,
  "nbformat_minor": 0,
  "metadata": {
    "colab": {
      "provenance": []
    },
    "kernelspec": {
      "name": "python3",
      "display_name": "Python 3"
    },
    "language_info": {
      "name": "python"
    }
  },
  "cells": [
    {
      "cell_type": "code",
      "execution_count": 2,
      "metadata": {
        "id": "ebJUN8sYC4Az"
      },
      "outputs": [],
      "source": [
        "import pandas as pd\n",
        "from sklearn.cluster import KMeans\n",
        "from sklearn.preprocessing import StandardScaler\n",
        "import matplotlib.pyplot as plt"
      ]
    },
    {
      "cell_type": "code",
      "source": [
        "# Create the DataFrame\n",
        "data = {\n",
        "    'Customer ID': [1, 2, 3, 4, 5, 6, 7, 8, 9, 10],\n",
        "    'Age': [25, 35, 45, 30, 20, 50, 55, 40, 28, 32],\n",
        "    'Income': [50000, 75000, 90000, 60, 30000, 80000, 100000, 70000, 40000, 55000],\n",
        "    'Spending Score': [75, 50, 85, 5, 40, None, 90, 55, 30, 65],\n",
        "    'Purchase Frequency': [4, 6, 3, 5, 2, 4, 2, 7, 4, 6]\n",
        "}\n"
      ],
      "metadata": {
        "id": "voAM6prQDQBz"
      },
      "execution_count": 3,
      "outputs": []
    },
    {
      "cell_type": "code",
      "source": [
        "df = pd.DataFrame(data)"
      ],
      "metadata": {
        "id": "y8j9innkDTHr"
      },
      "execution_count": 4,
      "outputs": []
    },
    {
      "cell_type": "code",
      "source": [
        "# Handle missing values by imputing with the mean\n",
        "df['Income'].fillna(df['Income'].mean(), inplace=True)\n",
        "df['Spending Score'].fillna(df['Spending Score'].mean(), inplace=True)\n",
        "df['Purchase Frequency'].fillna(df['Purchase Frequency'].mean(), inplace=True)\n"
      ],
      "metadata": {
        "id": "REaQIUsDDUeR"
      },
      "execution_count": 5,
      "outputs": []
    },
    {
      "cell_type": "code",
      "source": [
        "\n",
        "# Check if there are any remaining missing values\n",
        "print(df.isnull().sum())"
      ],
      "metadata": {
        "colab": {
          "base_uri": "https://localhost:8080/"
        },
        "id": "QWqNwYe_DWrt",
        "outputId": "b09766e5-dc37-4f04-89dd-99a551882e83"
      },
      "execution_count": 6,
      "outputs": [
        {
          "output_type": "stream",
          "name": "stdout",
          "text": [
            "Customer ID           0\n",
            "Age                   0\n",
            "Income                0\n",
            "Spending Score        0\n",
            "Purchase Frequency    0\n",
            "dtype: int64\n"
          ]
        }
      ]
    },
    {
      "cell_type": "code",
      "source": [
        "# Standardize the features\n",
        "scaler = StandardScaler()\n",
        "scaled_data = scaler.fit_transform(df[['Age', 'Income', 'Spending Score', 'Purchase Frequency']])\n"
      ],
      "metadata": {
        "id": "yC-YlnlmDY1E"
      },
      "execution_count": 7,
      "outputs": []
    },
    {
      "cell_type": "code",
      "source": [
        "# Determine the optimal number of clusters using the Elbow Method\n",
        "wcss = []\n",
        "for i in range(1, 11):\n",
        "    kmeans = KMeans(n_clusters=i, init='k-means++', max_iter=300, n_init=10, random_state=0)\n",
        "    kmeans.fit(scaled_data)\n",
        "    wcss.append(kmeans.inertia_)\n"
      ],
      "metadata": {
        "id": "b1IrVZ_YDajG"
      },
      "execution_count": 8,
      "outputs": []
    },
    {
      "cell_type": "code",
      "source": [
        "# Plot the Elbow Method graph\n",
        "plt.plot(range(1, 11), wcss)\n",
        "plt.title('Elbow Method')\n",
        "plt.xlabel('Number of Clusters')\n",
        "plt.ylabel('WCSS')  # Within-Cluster Sum of Squares\n",
        "plt.show()"
      ],
      "metadata": {
        "colab": {
          "base_uri": "https://localhost:8080/",
          "height": 472
        },
        "id": "6W6zkusbDcHI",
        "outputId": "32d141be-89ff-4eb2-f142-24ec24a2733f"
      },
      "execution_count": 9,
      "outputs": [
        {
          "output_type": "display_data",
          "data": {
            "text/plain": [
              "<Figure size 640x480 with 1 Axes>"
            ],
            "image/png": "[encoded data removed]"
          },
          "metadata": {}
        }
      ]
    },
    {
      "cell_type": "code",
      "source": [
        "# Apply K-means clustering with the optimal number of clusters\n",
        "kmeans = KMeans(n_clusters=3, init='k-means++', max_iter=300, n_init=10, random_state=0)\n",
        "df['Cluster'] = kmeans.fit_predict(scaled_data)\n"
      ],
      "metadata": {
        "id": "s4Oa7U9ADddk"
      },
      "execution_count": 10,
      "outputs": []
    },
    {
      "cell_type": "code",
      "source": [
        "\n",
        "# Display the DataFrame with the assigned clusters\n",
        "print(df)"
      ],
      "metadata": {
        "colab": {
          "base_uri": "https://localhost:8080/"
        },
        "id": "CpmekyzQDgad",
        "outputId": "080ff5d6-cc65-4223-903e-7426f04a7b73"
      },
      "execution_count": 11,
      "outputs": [
        {
          "output_type": "stream",
          "name": "stdout",
          "text": [
            "   Customer ID  Age  Income  Spending Score  Purchase Frequency  Cluster\n",
            "0            1   25   50000            75.0                   4        2\n",
            "1            2   35   75000            50.0                   6        2\n",
            "2            3   45   90000            85.0                   3        1\n",
            "3            4   30      60             5.0                   5        0\n",
            "4            5   20   30000            40.0                   2        0\n",
            "5            6   50   80000            55.0                   4        1\n",
            "6            7   55  100000            90.0                   2        1\n",
            "7            8   40   70000            55.0                   7        2\n",
            "8            9   28   40000            30.0                   4        0\n",
            "9           10   32   55000            65.0                   6        2\n"
          ]
        }
      ]
    },
    {
      "cell_type": "code",
      "source": [
        "# Interpret the Clusters\n",
        "cluster_summary = df.groupby('Cluster').mean()\n",
        "print(cluster_summary)"
      ],
      "metadata": {
        "colab": {
          "base_uri": "https://localhost:8080/"
        },
        "id": "js1dFYgZDguL",
        "outputId": "1f11cd9d-840d-459f-d998-e5c8d98e5ce2"
      },
      "execution_count": 12,
      "outputs": [
        {
          "output_type": "stream",
          "name": "stdout",
          "text": [
            "         Customer ID   Age        Income  Spending Score  Purchase Frequency\n",
            "Cluster                                                                     \n",
            "0           6.000000  26.0  23353.333333       25.000000            3.666667\n",
            "1           5.333333  50.0  90000.000000       76.666667            3.000000\n",
            "2           5.250000  33.0  62500.000000       61.250000            5.750000\n"
          ]
        }
      ]
    },
    {
      "cell_type": "code",
      "source": [],
      "metadata": {
        "id": "p0mijFvTDjEo"
      },
      "execution_count": null,
      "outputs": []
    }
  ]
}